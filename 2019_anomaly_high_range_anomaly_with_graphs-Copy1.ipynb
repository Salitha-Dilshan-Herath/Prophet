{
 "cells": [
  {
   "cell_type": "markdown",
   "metadata": {},
   "source": [
    "# Time-series outlier detection using Prophet on weather data\n",
    "\n",
    "## Method\n",
    "\n",
    "The Prophet outlier detector uses the [Prophet](https://facebook.github.io/prophet/) time series forecasting package explained in [this excellent paper](https://peerj.com/preprints/3190/). The underlying Prophet model is a decomposable univariate time series model combining trend, seasonality and holiday effects. The model forecast also includes an uncertainty interval around the estimated trend component using the [MAP estimate](https://en.wikipedia.org/wiki/Maximum_a_posteriori_estimation) of the extrapolated model. Alternatively, full Bayesian inference can be done at the expense of increased compute. The upper and lower values of the uncertainty interval can then be used as outlier thresholds for each point in time. First, the distance from the observed value to the nearest uncertainty boundary (upper or lower) is computed. If the observation is within the boundaries, the outlier score equals the negative distance. As a result, the outlier score is the lowest when the observation equals the model prediction. If the observation is outside of the boundaries, the score equals the distance measure and the observation is flagged as an outlier. One of the main drawbacks of the method however is that you need to refit the model as new data comes in. This is undesirable for applications with high throughput and real-time detection.\n",
    "\n",
    "## Dataset\n",
    "\n",
    "The example uses a weather time series dataset recorded by the [Max-Planck-Institute for Biogeochemistry](https://www.bgc-jena.mpg.de/wetter/). The dataset contains 14 different features such as air temperature, atmospheric pressure, and humidity. These were collected every 10 minutes, beginning in 2003. Like the [TensorFlow time-series tutorial](https://www.tensorflow.org/tutorials/structured_data/time_series), we only use data collected between 2009 and 2016."
   ]
  },
  {
   "cell_type": "code",
   "execution_count": 130,
   "metadata": {},
   "outputs": [],
   "source": [
    "import matplotlib.pyplot as plt\n",
    "import numpy as np\n",
    "import os\n",
    "import pandas as pd\n",
    "import tensorflow as tf\n",
    "from datetime import datetime\n",
    "\n",
    "# from alibi_detect.od import OutlierProphet\n",
    "# from alibi_detect.utils.fetching import fetch_detector\n",
    "# from alibi_detect.utils.saving import save_detector, load_detector"
   ]
  },
  {
   "cell_type": "markdown",
   "metadata": {},
   "source": [
    "## Preprocess log file "
   ]
  },
  {
   "cell_type": "code",
   "execution_count": 131,
   "metadata": {},
   "outputs": [],
   "source": [
    "log_df = pd.read_csv('data/413377922610_elasticloadbalancing_us-east-1_prod_20200703T0958Z_54.243.202.15_3acrxxhj.log', sep=' ', header=None, encoding='utf-8')\n",
    "log_df.columns = [\n",
    "            'timestamp',\n",
    "            'elb',\n",
    "            'client',\n",
    "            'backend',\n",
    "            'request_processing_time',\n",
    "            'backend_processing_time',\n",
    "            'response_processing_time',\n",
    "            'elb_status_code',\n",
    "            'backend_status_code',\n",
    "            'received_bytes',\n",
    "            'sent_bytes',\n",
    "            'ssl_cipher',\n",
    "            'ssl_protocol',\n",
    "            'request',\n",
    "            'user_agent'\n",
    "        ]"
   ]
  },
  {
   "cell_type": "code",
   "execution_count": 132,
   "metadata": {},
   "outputs": [],
   "source": [
    "rescale_df = log_df.filter(['timestamp', 'backend_processing_time'], axis=1)\n"
   ]
  },
  {
   "cell_type": "code",
   "execution_count": 133,
   "metadata": {},
   "outputs": [],
   "source": [
    "rescale_df['timestamp'] = rescale_df['timestamp'].apply(lambda x: (datetime.strptime(x, '%Y-%m-%dT%H:%M:%S.%fZ')))"
   ]
  },
  {
   "cell_type": "markdown",
   "metadata": {},
   "source": [
    "# Preprocess Anomaly log file"
   ]
  },
  {
   "cell_type": "code",
   "execution_count": 134,
   "metadata": {},
   "outputs": [],
   "source": [
    "anomaly_log_df = pd.read_csv('data/anomalyDateTime.csv', sep=' ', header=None, encoding='utf-8')\n",
    "anomaly_log_df.columns = [\n",
    "            'timestamp',\n",
    "            'elb',\n",
    "            'client',\n",
    "            'backend',\n",
    "            'request_processing_time',\n",
    "            'backend_processing_time',\n",
    "            'response_processing_time',\n",
    "            'elb_status_code',\n",
    "            'backend_status_code',\n",
    "            'received_bytes',\n",
    "            'sent_bytes',\n",
    "            'ssl_cipher',\n",
    "            'ssl_protocol',\n",
    "            'request',\n",
    "            'user_agent'\n",
    "        ]"
   ]
  },
  {
   "cell_type": "code",
   "execution_count": 135,
   "metadata": {},
   "outputs": [
    {
     "data": {
      "text/plain": [
       "(1509, 2)"
      ]
     },
     "execution_count": 135,
     "metadata": {},
     "output_type": "execute_result"
    }
   ],
   "source": [
    "filter_anomaly_log_df              = anomaly_log_df.filter(['timestamp', 'backend_processing_time'], axis=1)\n",
    "filter_anomaly_log_df['timestamp'] = filter_anomaly_log_df['timestamp'].apply(lambda x: (datetime.strptime((x), '%Y-%m-%dT%H:%M:%S.%fZ')))\n",
    "filter_anomaly_log_df.shape"
   ]
  },
  {
   "cell_type": "code",
   "execution_count": 136,
   "metadata": {},
   "outputs": [
    {
     "data": {
      "text/html": [
       "<div>\n",
       "<style scoped>\n",
       "    .dataframe tbody tr th:only-of-type {\n",
       "        vertical-align: middle;\n",
       "    }\n",
       "\n",
       "    .dataframe tbody tr th {\n",
       "        vertical-align: top;\n",
       "    }\n",
       "\n",
       "    .dataframe thead th {\n",
       "        text-align: right;\n",
       "    }\n",
       "</style>\n",
       "<table border=\"1\" class=\"dataframe\">\n",
       "  <thead>\n",
       "    <tr style=\"text-align: right;\">\n",
       "      <th></th>\n",
       "      <th>backend_processing_time</th>\n",
       "      <th>timestamp</th>\n",
       "    </tr>\n",
       "  </thead>\n",
       "  <tbody>\n",
       "    <tr>\n",
       "      <th>0</th>\n",
       "      <td>94095.625000</td>\n",
       "      <td>2019-04-30 00:00:00</td>\n",
       "    </tr>\n",
       "    <tr>\n",
       "      <th>1</th>\n",
       "      <td>NaN</td>\n",
       "      <td>2019-05-31 00:00:00</td>\n",
       "    </tr>\n",
       "    <tr>\n",
       "      <th>2</th>\n",
       "      <td>NaN</td>\n",
       "      <td>2019-06-30 00:00:00</td>\n",
       "    </tr>\n",
       "    <tr>\n",
       "      <th>3</th>\n",
       "      <td>93965.854369</td>\n",
       "      <td>2019-07-31 00:00:00</td>\n",
       "    </tr>\n",
       "    <tr>\n",
       "      <th>4</th>\n",
       "      <td>NaN</td>\n",
       "      <td>2019-08-31 00:00:00</td>\n",
       "    </tr>\n",
       "    <tr>\n",
       "      <th>5</th>\n",
       "      <td>NaN</td>\n",
       "      <td>2019-09-30 00:00:00</td>\n",
       "    </tr>\n",
       "    <tr>\n",
       "      <th>6</th>\n",
       "      <td>96796.956522</td>\n",
       "      <td>2019-10-31 00:00:00</td>\n",
       "    </tr>\n",
       "    <tr>\n",
       "      <th>7</th>\n",
       "      <td>95451.923077</td>\n",
       "      <td>2019-11-30 00:00:00</td>\n",
       "    </tr>\n",
       "  </tbody>\n",
       "</table>\n",
       "</div>"
      ],
      "text/plain": [
       "   backend_processing_time            timestamp\n",
       "0             94095.625000  2019-04-30 00:00:00\n",
       "1                      NaN  2019-05-31 00:00:00\n",
       "2                      NaN  2019-06-30 00:00:00\n",
       "3             93965.854369  2019-07-31 00:00:00\n",
       "4                      NaN  2019-08-31 00:00:00\n",
       "5                      NaN  2019-09-30 00:00:00\n",
       "6             96796.956522  2019-10-31 00:00:00\n",
       "7             95451.923077  2019-11-30 00:00:00"
      ]
     },
     "execution_count": 136,
     "metadata": {},
     "output_type": "execute_result"
    }
   ],
   "source": [
    "filter_anomaly_log_df.index    = filter_anomaly_log_df.timestamp\n",
    "filter_anomaly_log_df_resample = filter_anomaly_log_df.resample('M', on='timestamp').mean()\n",
    "filter_anomaly_log_df_resample['timestamp'] = filter_anomaly_log_df_resample.index\n",
    "filter_anomaly_log_df_resample.reset_index(drop=True, inplace=True)\n",
    "filter_anomaly_log_df_resample['timestamp']= filter_anomaly_log_df_resample['timestamp'].apply(lambda x: str(datetime.strptime(str(x), '%Y-%m-%d %H:%M:%S')))\n",
    "filter_anomaly_log_df_resample"
   ]
  },
  {
   "cell_type": "markdown",
   "metadata": {},
   "source": [
    "## Load dataset"
   ]
  },
  {
   "cell_type": "code",
   "execution_count": 137,
   "metadata": {},
   "outputs": [
    {
     "data": {
      "text/html": [
       "<div>\n",
       "<style scoped>\n",
       "    .dataframe tbody tr th:only-of-type {\n",
       "        vertical-align: middle;\n",
       "    }\n",
       "\n",
       "    .dataframe tbody tr th {\n",
       "        vertical-align: top;\n",
       "    }\n",
       "\n",
       "    .dataframe thead th {\n",
       "        text-align: right;\n",
       "    }\n",
       "</style>\n",
       "<table border=\"1\" class=\"dataframe\">\n",
       "  <thead>\n",
       "    <tr style=\"text-align: right;\">\n",
       "      <th></th>\n",
       "      <th>backend_processing_time</th>\n",
       "      <th>timestamp</th>\n",
       "    </tr>\n",
       "    <tr>\n",
       "      <th>timestamp</th>\n",
       "      <th></th>\n",
       "      <th></th>\n",
       "    </tr>\n",
       "  </thead>\n",
       "  <tbody>\n",
       "    <tr>\n",
       "      <th>2019-01-31</th>\n",
       "      <td>20983.870968</td>\n",
       "      <td>2019-01-31</td>\n",
       "    </tr>\n",
       "    <tr>\n",
       "      <th>2019-02-28</th>\n",
       "      <td>20988.950893</td>\n",
       "      <td>2019-02-28</td>\n",
       "    </tr>\n",
       "    <tr>\n",
       "      <th>2019-03-31</th>\n",
       "      <td>20974.373880</td>\n",
       "      <td>2019-03-31</td>\n",
       "    </tr>\n",
       "    <tr>\n",
       "      <th>2019-04-30</th>\n",
       "      <td>21115.997851</td>\n",
       "      <td>2019-04-30</td>\n",
       "    </tr>\n",
       "    <tr>\n",
       "      <th>2019-05-31</th>\n",
       "      <td>20993.767921</td>\n",
       "      <td>2019-05-31</td>\n",
       "    </tr>\n",
       "  </tbody>\n",
       "</table>\n",
       "</div>"
      ],
      "text/plain": [
       "            backend_processing_time  timestamp\n",
       "timestamp                                     \n",
       "2019-01-31             20983.870968 2019-01-31\n",
       "2019-02-28             20988.950893 2019-02-28\n",
       "2019-03-31             20974.373880 2019-03-31\n",
       "2019-04-30             21115.997851 2019-04-30\n",
       "2019-05-31             20993.767921 2019-05-31"
      ]
     },
     "execution_count": 137,
     "metadata": {},
     "output_type": "execute_result"
    }
   ],
   "source": [
    "df_1 = rescale_df\n",
    "df_1['timestamp'] = pd.to_datetime(df_1['timestamp'], format=\"%Y-%m-%dT%H:%M:%S\")\n",
    "# df_1.index = df_1.timestamp\n",
    "df_2 = df_1.resample('M', on='timestamp').mean()\n",
    "df_2['timestamp'] = df_2.index\n",
    "df_2.to_csv('train.csv')\n",
    "df_2.head()"
   ]
  },
  {
   "cell_type": "code",
   "execution_count": 138,
   "metadata": {},
   "outputs": [],
   "source": [
    "df = pd.read_csv('train.csv', index_col=None)\n",
    "df.drop(['timestamp.1'],axis = 1, inplace = True)"
   ]
  },
  {
   "cell_type": "code",
   "execution_count": 139,
   "metadata": {},
   "outputs": [
    {
     "data": {
      "text/html": [
       "<div>\n",
       "<style scoped>\n",
       "    .dataframe tbody tr th:only-of-type {\n",
       "        vertical-align: middle;\n",
       "    }\n",
       "\n",
       "    .dataframe tbody tr th {\n",
       "        vertical-align: top;\n",
       "    }\n",
       "\n",
       "    .dataframe thead th {\n",
       "        text-align: right;\n",
       "    }\n",
       "</style>\n",
       "<table border=\"1\" class=\"dataframe\">\n",
       "  <thead>\n",
       "    <tr style=\"text-align: right;\">\n",
       "      <th></th>\n",
       "      <th>timestamp</th>\n",
       "      <th>backend_processing_time</th>\n",
       "    </tr>\n",
       "  </thead>\n",
       "  <tbody>\n",
       "    <tr>\n",
       "      <th>0</th>\n",
       "      <td>2019-01-31</td>\n",
       "      <td>20983.870968</td>\n",
       "    </tr>\n",
       "    <tr>\n",
       "      <th>1</th>\n",
       "      <td>2019-02-28</td>\n",
       "      <td>20988.950893</td>\n",
       "    </tr>\n",
       "    <tr>\n",
       "      <th>2</th>\n",
       "      <td>2019-03-31</td>\n",
       "      <td>20974.373880</td>\n",
       "    </tr>\n",
       "    <tr>\n",
       "      <th>3</th>\n",
       "      <td>2019-04-30</td>\n",
       "      <td>21115.997851</td>\n",
       "    </tr>\n",
       "    <tr>\n",
       "      <th>4</th>\n",
       "      <td>2019-05-31</td>\n",
       "      <td>20993.767921</td>\n",
       "    </tr>\n",
       "  </tbody>\n",
       "</table>\n",
       "</div>"
      ],
      "text/plain": [
       "    timestamp  backend_processing_time\n",
       "0  2019-01-31             20983.870968\n",
       "1  2019-02-28             20988.950893\n",
       "2  2019-03-31             20974.373880\n",
       "3  2019-04-30             21115.997851\n",
       "4  2019-05-31             20993.767921"
      ]
     },
     "execution_count": 139,
     "metadata": {},
     "output_type": "execute_result"
    }
   ],
   "source": [
    "df.head()"
   ]
  },
  {
   "cell_type": "markdown",
   "metadata": {},
   "source": [
    "Select subset to test Prophet model on:"
   ]
  },
  {
   "cell_type": "code",
   "execution_count": 140,
   "metadata": {},
   "outputs": [],
   "source": [
    "n_prophet = 34040"
   ]
  },
  {
   "cell_type": "markdown",
   "metadata": {},
   "source": [
    "Prophet model expects a DataFrame with 2 columns: one named ```ds``` with the timestamps and one named ```y``` with the time series to be evaluated. We will just look at the temperature data:"
   ]
  },
  {
   "cell_type": "code",
   "execution_count": 141,
   "metadata": {},
   "outputs": [
    {
     "name": "stdout",
     "output_type": "stream",
     "text": [
      "(12, 2)\n"
     ]
    },
    {
     "data": {
      "text/html": [
       "<div>\n",
       "<style scoped>\n",
       "    .dataframe tbody tr th:only-of-type {\n",
       "        vertical-align: middle;\n",
       "    }\n",
       "\n",
       "    .dataframe tbody tr th {\n",
       "        vertical-align: top;\n",
       "    }\n",
       "\n",
       "    .dataframe thead th {\n",
       "        text-align: right;\n",
       "    }\n",
       "</style>\n",
       "<table border=\"1\" class=\"dataframe\">\n",
       "  <thead>\n",
       "    <tr style=\"text-align: right;\">\n",
       "      <th></th>\n",
       "      <th>ds</th>\n",
       "      <th>y</th>\n",
       "    </tr>\n",
       "  </thead>\n",
       "  <tbody>\n",
       "    <tr>\n",
       "      <th>7</th>\n",
       "      <td>2019-08-31</td>\n",
       "      <td>20975.001568</td>\n",
       "    </tr>\n",
       "    <tr>\n",
       "      <th>8</th>\n",
       "      <td>2019-09-30</td>\n",
       "      <td>20974.463657</td>\n",
       "    </tr>\n",
       "    <tr>\n",
       "      <th>9</th>\n",
       "      <td>2019-10-31</td>\n",
       "      <td>20990.741417</td>\n",
       "    </tr>\n",
       "    <tr>\n",
       "      <th>10</th>\n",
       "      <td>2019-11-30</td>\n",
       "      <td>21233.995179</td>\n",
       "    </tr>\n",
       "    <tr>\n",
       "      <th>11</th>\n",
       "      <td>2019-12-31</td>\n",
       "      <td>20997.809812</td>\n",
       "    </tr>\n",
       "  </tbody>\n",
       "</table>\n",
       "</div>"
      ],
      "text/plain": [
       "            ds             y\n",
       "7   2019-08-31  20975.001568\n",
       "8   2019-09-30  20974.463657\n",
       "9   2019-10-31  20990.741417\n",
       "10  2019-11-30  21233.995179\n",
       "11  2019-12-31  20997.809812"
      ]
     },
     "execution_count": 141,
     "metadata": {},
     "output_type": "execute_result"
    }
   ],
   "source": [
    "d = {'ds': df['timestamp'][:n_prophet], 'y': df['backend_processing_time'][:n_prophet]}\n",
    "df_T = pd.DataFrame(data=d)\n",
    "print(df_T.shape)\n",
    "#df_T.head()\n",
    "\n",
    "df_T.tail()"
   ]
  },
  {
   "cell_type": "code",
   "execution_count": 142,
   "metadata": {},
   "outputs": [
    {
     "data": {
      "text/plain": [
       "(8, 2)"
      ]
     },
     "execution_count": 142,
     "metadata": {},
     "output_type": "execute_result"
    }
   ],
   "source": [
    "filter_anomaly_log_df_resample.shape"
   ]
  },
  {
   "cell_type": "code",
   "execution_count": 143,
   "metadata": {},
   "outputs": [],
   "source": [
    "df_T = df_T.loc[df_T['y'] < 30000]"
   ]
  },
  {
   "cell_type": "code",
   "execution_count": 128,
   "metadata": {},
   "outputs": [],
   "source": [
    "y_max = df_T['y'].max()"
   ]
  },
  {
   "cell_type": "code",
   "execution_count": 144,
   "metadata": {
    "scrolled": true
   },
   "outputs": [
    {
     "data": {
      "image/png": "[encoded data removed]",
      "text/plain": [
       "<Figure size 1152x648 with 1 Axes>"
      ]
     },
     "metadata": {
      "needs_background": "light"
     },
     "output_type": "display_data"
    }
   ],
   "source": [
    "plt.figure(figsize=(16,9))\n",
    "# plt.ylim([0,y_max ])\n",
    "plt.plot(df_T['ds'], df_T['y'])\n",
    "#plt.plot(filter_anomaly_log_df_resample['timestamp'], filter_anomaly_log_df_resample['backend_processing_time'], 'o', color='red')\n",
    "plt.title('backend_processing_time over time')\n",
    "plt.xlabel('Time')\n",
    "plt.ylabel('T (time)')\n",
    "plt.show()"
   ]
  },
  {
   "cell_type": "markdown",
   "metadata": {},
   "source": [
    "## Load or define outlier detector\n",
    "\n",
    "The pretrained outlier and adversarial detectors used in the example notebooks can be found [here](https://console.cloud.google.com/storage/browser/seldon-models/alibi-detect). You can use the built-in ```fetch_detector``` function which saves the pre-trained models in a local directory ```filepath``` and loads the detector. Alternatively, you can train a detector from scratch:"
   ]
  },
  {
   "cell_type": "code",
   "execution_count": 41,
   "metadata": {},
   "outputs": [],
   "source": [
    "load_outlier_detector = False"
   ]
  },
  {
   "cell_type": "code",
   "execution_count": 42,
   "metadata": {},
   "outputs": [],
   "source": [
    "filepath = 'my_path'  # change to directory where model is downloaded\n",
    "if load_outlier_detector:  # load pretrained outlier detector\n",
    "    detector_type = 'outlier'\n",
    "    dataset = 'weather'\n",
    "    detector_name = 'OutlierProphet'\n",
    "    od = fetch_detector(filepath, detector_type, dataset, detector_name)\n",
    "    filepath = os.path.join(filepath, detector_name)\n",
    "else:  # initialize, fit and save outlier detector\n",
    "    od = OutlierProphet(yearly_seasonality = True, weekly_seasonality= True, daily_seasonality = True, threshold=.9)\n",
    "    od.fit(df_T)\n",
    "    save_detector(od, filepath)"
   ]
  },
  {
   "cell_type": "markdown",
   "metadata": {},
   "source": [
    "Please check out the [documentation](https://docs.seldon.io/projects/alibi-detect/en/latest/methods/prophet.html) as well as the original [Prophet documentation](https://facebook.github.io/prophet/) on how to customize the Prophet-based outlier detector and add seasonalities, holidays, opt for a saturating logistic growth model or apply parameter regularization.\n",
    "\n",
    "## Predict outliers on test data\n",
    "\n",
    "Define the test data. It is important that the timestamps of the test data follow the training data. We check this below by comparing the first few rows of the test DataFrame with the last few of the training DataFrame:"
   ]
  },
  {
   "cell_type": "code",
   "execution_count": 43,
   "metadata": {},
   "outputs": [
    {
     "data": {
      "text/html": [
       "<div>\n",
       "<style scoped>\n",
       "    .dataframe tbody tr th:only-of-type {\n",
       "        vertical-align: middle;\n",
       "    }\n",
       "\n",
       "    .dataframe tbody tr th {\n",
       "        vertical-align: top;\n",
       "    }\n",
       "\n",
       "    .dataframe thead th {\n",
       "        text-align: right;\n",
       "    }\n",
       "</style>\n",
       "<table border=\"1\" class=\"dataframe\">\n",
       "  <thead>\n",
       "    <tr style=\"text-align: right;\">\n",
       "      <th></th>\n",
       "      <th>ds</th>\n",
       "      <th>y</th>\n",
       "    </tr>\n",
       "  </thead>\n",
       "  <tbody>\n",
       "    <tr>\n",
       "      <th>0</th>\n",
       "      <td>2019-01-01 00:00:00</td>\n",
       "      <td>19052.666667</td>\n",
       "    </tr>\n",
       "    <tr>\n",
       "      <th>1</th>\n",
       "      <td>2019-01-01 00:15:00</td>\n",
       "      <td>21883.333333</td>\n",
       "    </tr>\n",
       "    <tr>\n",
       "      <th>2</th>\n",
       "      <td>2019-01-01 00:30:00</td>\n",
       "      <td>19024.666667</td>\n",
       "    </tr>\n",
       "    <tr>\n",
       "      <th>3</th>\n",
       "      <td>2019-01-01 00:45:00</td>\n",
       "      <td>22486.000000</td>\n",
       "    </tr>\n",
       "    <tr>\n",
       "      <th>4</th>\n",
       "      <td>2019-01-01 01:00:00</td>\n",
       "      <td>20256.000000</td>\n",
       "    </tr>\n",
       "  </tbody>\n",
       "</table>\n",
       "</div>"
      ],
      "text/plain": [
       "                    ds             y\n",
       "0  2019-01-01 00:00:00  19052.666667\n",
       "1  2019-01-01 00:15:00  21883.333333\n",
       "2  2019-01-01 00:30:00  19024.666667\n",
       "3  2019-01-01 00:45:00  22486.000000\n",
       "4  2019-01-01 01:00:00  20256.000000"
      ]
     },
     "execution_count": 43,
     "metadata": {},
     "output_type": "execute_result"
    }
   ],
   "source": [
    "n_periods = 4000\n",
    "d = {'ds': df['timestamp'], \n",
    "     'y': df['backend_processing_time']}\n",
    "df_T_test = pd.DataFrame(data=d)\n",
    "df_T_test.head()"
   ]
  },
  {
   "cell_type": "code",
   "execution_count": 44,
   "metadata": {},
   "outputs": [
    {
     "data": {
      "text/html": [
       "<div>\n",
       "<style scoped>\n",
       "    .dataframe tbody tr th:only-of-type {\n",
       "        vertical-align: middle;\n",
       "    }\n",
       "\n",
       "    .dataframe tbody tr th {\n",
       "        vertical-align: top;\n",
       "    }\n",
       "\n",
       "    .dataframe thead th {\n",
       "        text-align: right;\n",
       "    }\n",
       "</style>\n",
       "<table border=\"1\" class=\"dataframe\">\n",
       "  <thead>\n",
       "    <tr style=\"text-align: right;\">\n",
       "      <th></th>\n",
       "      <th>ds</th>\n",
       "      <th>y</th>\n",
       "    </tr>\n",
       "  </thead>\n",
       "  <tbody>\n",
       "    <tr>\n",
       "      <th>34035</th>\n",
       "      <td>2019-12-21 12:45:00</td>\n",
       "      <td>21781.333333</td>\n",
       "    </tr>\n",
       "    <tr>\n",
       "      <th>34036</th>\n",
       "      <td>2019-12-21 13:00:00</td>\n",
       "      <td>21523.333333</td>\n",
       "    </tr>\n",
       "    <tr>\n",
       "      <th>34037</th>\n",
       "      <td>2019-12-21 13:15:00</td>\n",
       "      <td>21544.000000</td>\n",
       "    </tr>\n",
       "    <tr>\n",
       "      <th>34038</th>\n",
       "      <td>2019-12-21 13:30:00</td>\n",
       "      <td>22649.333333</td>\n",
       "    </tr>\n",
       "    <tr>\n",
       "      <th>34039</th>\n",
       "      <td>2019-12-21 13:45:00</td>\n",
       "      <td>20992.000000</td>\n",
       "    </tr>\n",
       "  </tbody>\n",
       "</table>\n",
       "</div>"
      ],
      "text/plain": [
       "                        ds             y\n",
       "34035  2019-12-21 12:45:00  21781.333333\n",
       "34036  2019-12-21 13:00:00  21523.333333\n",
       "34037  2019-12-21 13:15:00  21544.000000\n",
       "34038  2019-12-21 13:30:00  22649.333333\n",
       "34039  2019-12-21 13:45:00  20992.000000"
      ]
     },
     "execution_count": 44,
     "metadata": {},
     "output_type": "execute_result"
    }
   ],
   "source": [
    "df_T.tail()"
   ]
  },
  {
   "cell_type": "markdown",
   "metadata": {},
   "source": [
    "Predict outliers on test data:"
   ]
  },
  {
   "cell_type": "code",
   "execution_count": 45,
   "metadata": {},
   "outputs": [],
   "source": [
    "od_preds = od.predict(\n",
    "    df_T_test, \n",
    "    return_instance_score=True,\n",
    "    return_forecast=True\n",
    ")"
   ]
  },
  {
   "cell_type": "markdown",
   "metadata": {},
   "source": [
    "## Visualize results\n",
    "\n",
    "We can first visualize our predictions with Prophet's built in plotting functionality. This also allows us to include historical predictions:"
   ]
  },
  {
   "cell_type": "code",
   "execution_count": 46,
   "metadata": {},
   "outputs": [
    {
     "data": {
      "image/png": "[encoded data removed]",
      "text/plain": [
       "<Figure size 720x432 with 1 Axes>"
      ]
     },
     "metadata": {},
     "output_type": "display_data"
    }
   ],
   "source": [
    "future = od.model.make_future_dataframe(periods=500, freq='15T', include_history=True)\n",
    "forecast = od.model.predict(future)\n",
    "fig = od.model.plot(forecast)"
   ]
  },
  {
   "cell_type": "markdown",
   "metadata": {},
   "source": [
    "We can also plot the breakdown of the different components in the forecast. Since we did not do full Bayesian inference with `mcmc_samples`, the uncertaintly intervals of the forecast are determined by the [MAP estimate](https://en.wikipedia.org/wiki/Maximum_a_posteriori_estimation) of the extrapolated trend."
   ]
  },
  {
   "cell_type": "code",
   "execution_count": 47,
   "metadata": {
    "scrolled": true
   },
   "outputs": [
    {
     "data": {
      "image/png": "[encoded data removed]",
      "text/plain": [
       "<Figure size 648x864 with 4 Axes>"
      ]
     },
     "metadata": {},
     "output_type": "display_data"
    }
   ],
   "source": [
    "fig = od.model.plot_components(forecast)"
   ]
  },
  {
   "cell_type": "markdown",
   "metadata": {},
   "source": [
    "It is clear that the further we predict in the future, the wider the uncertainty intervals which determine the outlier threshold.\n",
    "\n",
    "Let's overlay the actual data with the upper and lower outlier thresholds predictions and check where we predicted outliers:"
   ]
  },
  {
   "cell_type": "code",
   "execution_count": 48,
   "metadata": {},
   "outputs": [],
   "source": [
    "forecast['y'] = df['backend_processing_time'][:n_prophet+n_periods]"
   ]
  },
  {
   "cell_type": "code",
   "execution_count": 49,
   "metadata": {},
   "outputs": [
    {
     "data": {
      "text/html": [
       "<div>\n",
       "<style scoped>\n",
       "    .dataframe tbody tr th:only-of-type {\n",
       "        vertical-align: middle;\n",
       "    }\n",
       "\n",
       "    .dataframe tbody tr th {\n",
       "        vertical-align: top;\n",
       "    }\n",
       "\n",
       "    .dataframe thead th {\n",
       "        text-align: right;\n",
       "    }\n",
       "</style>\n",
       "<table border=\"1\" class=\"dataframe\">\n",
       "  <thead>\n",
       "    <tr style=\"text-align: right;\">\n",
       "      <th></th>\n",
       "      <th>ds</th>\n",
       "      <th>yhat</th>\n",
       "      <th>y</th>\n",
       "    </tr>\n",
       "  </thead>\n",
       "  <tbody>\n",
       "    <tr>\n",
       "      <th>0</th>\n",
       "      <td>2019-01-01 00:00:00</td>\n",
       "      <td>20855.463577</td>\n",
       "      <td>19052.666667</td>\n",
       "    </tr>\n",
       "    <tr>\n",
       "      <th>1</th>\n",
       "      <td>2019-01-01 00:15:00</td>\n",
       "      <td>20855.542626</td>\n",
       "      <td>21883.333333</td>\n",
       "    </tr>\n",
       "    <tr>\n",
       "      <th>2</th>\n",
       "      <td>2019-01-01 00:30:00</td>\n",
       "      <td>20855.608422</td>\n",
       "      <td>19024.666667</td>\n",
       "    </tr>\n",
       "    <tr>\n",
       "      <th>3</th>\n",
       "      <td>2019-01-01 00:45:00</td>\n",
       "      <td>20855.656284</td>\n",
       "      <td>22486.000000</td>\n",
       "    </tr>\n",
       "    <tr>\n",
       "      <th>4</th>\n",
       "      <td>2019-01-01 01:00:00</td>\n",
       "      <td>20855.700793</td>\n",
       "      <td>20256.000000</td>\n",
       "    </tr>\n",
       "    <tr>\n",
       "      <th>...</th>\n",
       "      <td>...</td>\n",
       "      <td>...</td>\n",
       "      <td>...</td>\n",
       "    </tr>\n",
       "    <tr>\n",
       "      <th>34535</th>\n",
       "      <td>2019-12-26 17:45:00</td>\n",
       "      <td>21231.761094</td>\n",
       "      <td>20068.666667</td>\n",
       "    </tr>\n",
       "    <tr>\n",
       "      <th>34536</th>\n",
       "      <td>2019-12-26 18:00:00</td>\n",
       "      <td>21229.842487</td>\n",
       "      <td>20886.000000</td>\n",
       "    </tr>\n",
       "    <tr>\n",
       "      <th>34537</th>\n",
       "      <td>2019-12-26 18:15:00</td>\n",
       "      <td>21228.305269</td>\n",
       "      <td>21652.000000</td>\n",
       "    </tr>\n",
       "    <tr>\n",
       "      <th>34538</th>\n",
       "      <td>2019-12-26 18:30:00</td>\n",
       "      <td>21227.020158</td>\n",
       "      <td>21328.666667</td>\n",
       "    </tr>\n",
       "    <tr>\n",
       "      <th>34539</th>\n",
       "      <td>2019-12-26 18:45:00</td>\n",
       "      <td>21225.858829</td>\n",
       "      <td>20717.333333</td>\n",
       "    </tr>\n",
       "  </tbody>\n",
       "</table>\n",
       "<p>34540 rows × 3 columns</p>\n",
       "</div>"
      ],
      "text/plain": [
       "                       ds          yhat             y\n",
       "0     2019-01-01 00:00:00  20855.463577  19052.666667\n",
       "1     2019-01-01 00:15:00  20855.542626  21883.333333\n",
       "2     2019-01-01 00:30:00  20855.608422  19024.666667\n",
       "3     2019-01-01 00:45:00  20855.656284  22486.000000\n",
       "4     2019-01-01 01:00:00  20855.700793  20256.000000\n",
       "...                   ...           ...           ...\n",
       "34535 2019-12-26 17:45:00  21231.761094  20068.666667\n",
       "34536 2019-12-26 18:00:00  21229.842487  20886.000000\n",
       "34537 2019-12-26 18:15:00  21228.305269  21652.000000\n",
       "34538 2019-12-26 18:30:00  21227.020158  21328.666667\n",
       "34539 2019-12-26 18:45:00  21225.858829  20717.333333\n",
       "\n",
       "[34540 rows x 3 columns]"
      ]
     },
     "execution_count": 49,
     "metadata": {},
     "output_type": "execute_result"
    }
   ],
   "source": [
    "forecast[['ds', 'yhat', 'y']]"
   ]
  },
  {
   "cell_type": "code",
   "execution_count": 50,
   "metadata": {},
   "outputs": [],
   "source": [
    "# forecast = forecast[forecast['ds'].dt.date.astype(str) == '2019-12-01']\n",
    "# test_fc = forecast[forecast['ds'].dt.date.astype(str) == '2019-11-01']\n",
    "# rangeDate = (forecast['ds'] > '2019-03-01 00:00:00' ) & (forecast['ds'] <= '2019-03-31 00:00:00' )\n",
    "test_fc   = forecast"
   ]
  },
  {
   "cell_type": "code",
   "execution_count": 51,
   "metadata": {},
   "outputs": [
    {
     "data": {
      "text/html": [
       "<div>\n",
       "<style scoped>\n",
       "    .dataframe tbody tr th:only-of-type {\n",
       "        vertical-align: middle;\n",
       "    }\n",
       "\n",
       "    .dataframe tbody tr th {\n",
       "        vertical-align: top;\n",
       "    }\n",
       "\n",
       "    .dataframe thead th {\n",
       "        text-align: right;\n",
       "    }\n",
       "</style>\n",
       "<table border=\"1\" class=\"dataframe\">\n",
       "  <thead>\n",
       "    <tr style=\"text-align: right;\">\n",
       "      <th></th>\n",
       "      <th>ds</th>\n",
       "      <th>yhat_upper</th>\n",
       "      <th>y</th>\n",
       "    </tr>\n",
       "  </thead>\n",
       "  <tbody>\n",
       "    <tr>\n",
       "      <th>0</th>\n",
       "      <td>2019-01-01 00:00:00</td>\n",
       "      <td>23586.322229</td>\n",
       "      <td>19052.666667</td>\n",
       "    </tr>\n",
       "    <tr>\n",
       "      <th>1</th>\n",
       "      <td>2019-01-01 00:15:00</td>\n",
       "      <td>23500.825920</td>\n",
       "      <td>21883.333333</td>\n",
       "    </tr>\n",
       "    <tr>\n",
       "      <th>2</th>\n",
       "      <td>2019-01-01 00:30:00</td>\n",
       "      <td>23560.859181</td>\n",
       "      <td>19024.666667</td>\n",
       "    </tr>\n",
       "    <tr>\n",
       "      <th>3</th>\n",
       "      <td>2019-01-01 00:45:00</td>\n",
       "      <td>23553.277649</td>\n",
       "      <td>22486.000000</td>\n",
       "    </tr>\n",
       "    <tr>\n",
       "      <th>4</th>\n",
       "      <td>2019-01-01 01:00:00</td>\n",
       "      <td>23325.333048</td>\n",
       "      <td>20256.000000</td>\n",
       "    </tr>\n",
       "    <tr>\n",
       "      <th>...</th>\n",
       "      <td>...</td>\n",
       "      <td>...</td>\n",
       "      <td>...</td>\n",
       "    </tr>\n",
       "    <tr>\n",
       "      <th>34535</th>\n",
       "      <td>2019-12-26 17:45:00</td>\n",
       "      <td>23824.671556</td>\n",
       "      <td>20068.666667</td>\n",
       "    </tr>\n",
       "    <tr>\n",
       "      <th>34536</th>\n",
       "      <td>2019-12-26 18:00:00</td>\n",
       "      <td>23706.681197</td>\n",
       "      <td>20886.000000</td>\n",
       "    </tr>\n",
       "    <tr>\n",
       "      <th>34537</th>\n",
       "      <td>2019-12-26 18:15:00</td>\n",
       "      <td>23887.954308</td>\n",
       "      <td>21652.000000</td>\n",
       "    </tr>\n",
       "    <tr>\n",
       "      <th>34538</th>\n",
       "      <td>2019-12-26 18:30:00</td>\n",
       "      <td>24115.041185</td>\n",
       "      <td>21328.666667</td>\n",
       "    </tr>\n",
       "    <tr>\n",
       "      <th>34539</th>\n",
       "      <td>2019-12-26 18:45:00</td>\n",
       "      <td>23814.055793</td>\n",
       "      <td>20717.333333</td>\n",
       "    </tr>\n",
       "  </tbody>\n",
       "</table>\n",
       "<p>34540 rows × 3 columns</p>\n",
       "</div>"
      ],
      "text/plain": [
       "                       ds    yhat_upper             y\n",
       "0     2019-01-01 00:00:00  23586.322229  19052.666667\n",
       "1     2019-01-01 00:15:00  23500.825920  21883.333333\n",
       "2     2019-01-01 00:30:00  23560.859181  19024.666667\n",
       "3     2019-01-01 00:45:00  23553.277649  22486.000000\n",
       "4     2019-01-01 01:00:00  23325.333048  20256.000000\n",
       "...                   ...           ...           ...\n",
       "34535 2019-12-26 17:45:00  23824.671556  20068.666667\n",
       "34536 2019-12-26 18:00:00  23706.681197  20886.000000\n",
       "34537 2019-12-26 18:15:00  23887.954308  21652.000000\n",
       "34538 2019-12-26 18:30:00  24115.041185  21328.666667\n",
       "34539 2019-12-26 18:45:00  23814.055793  20717.333333\n",
       "\n",
       "[34540 rows x 3 columns]"
      ]
     },
     "execution_count": 51,
     "metadata": {},
     "output_type": "execute_result"
    }
   ],
   "source": [
    "test_fc[['ds', 'yhat_upper', 'y']]"
   ]
  },
  {
   "cell_type": "code",
   "execution_count": 52,
   "metadata": {},
   "outputs": [
    {
     "data": {
      "text/plain": [
       "78481.07438016529"
      ]
     },
     "execution_count": 52,
     "metadata": {},
     "output_type": "execute_result"
    }
   ],
   "source": [
    "test_fc['y'].max()"
   ]
  },
  {
   "cell_type": "code",
   "execution_count": 74,
   "metadata": {},
   "outputs": [
    {
     "data": {
      "text/html": [
       "<div>\n",
       "<style scoped>\n",
       "    .dataframe tbody tr th:only-of-type {\n",
       "        vertical-align: middle;\n",
       "    }\n",
       "\n",
       "    .dataframe tbody tr th {\n",
       "        vertical-align: top;\n",
       "    }\n",
       "\n",
       "    .dataframe thead th {\n",
       "        text-align: right;\n",
       "    }\n",
       "</style>\n",
       "<table border=\"1\" class=\"dataframe\">\n",
       "  <thead>\n",
       "    <tr style=\"text-align: right;\">\n",
       "      <th></th>\n",
       "      <th>ds</th>\n",
       "      <th>y</th>\n",
       "      <th>yhat</th>\n",
       "      <th>yhat_lower</th>\n",
       "      <th>yhat_upper</th>\n",
       "    </tr>\n",
       "    <tr>\n",
       "      <th>ds</th>\n",
       "      <th></th>\n",
       "      <th></th>\n",
       "      <th></th>\n",
       "      <th></th>\n",
       "      <th></th>\n",
       "    </tr>\n",
       "  </thead>\n",
       "  <tbody>\n",
       "    <tr>\n",
       "      <th>2019-01-01 00:00:00</th>\n",
       "      <td>2019-01-01 00:00:00</td>\n",
       "      <td>19052.666667</td>\n",
       "      <td>20855.463577</td>\n",
       "      <td>18237.011519</td>\n",
       "      <td>23586.322229</td>\n",
       "    </tr>\n",
       "    <tr>\n",
       "      <th>2019-01-01 00:15:00</th>\n",
       "      <td>2019-01-01 00:15:00</td>\n",
       "      <td>21883.333333</td>\n",
       "      <td>20855.542626</td>\n",
       "      <td>18210.145946</td>\n",
       "      <td>23500.825920</td>\n",
       "    </tr>\n",
       "    <tr>\n",
       "      <th>2019-01-01 00:30:00</th>\n",
       "      <td>2019-01-01 00:30:00</td>\n",
       "      <td>19024.666667</td>\n",
       "      <td>20855.608422</td>\n",
       "      <td>18176.704454</td>\n",
       "      <td>23560.859181</td>\n",
       "    </tr>\n",
       "    <tr>\n",
       "      <th>2019-01-01 00:45:00</th>\n",
       "      <td>2019-01-01 00:45:00</td>\n",
       "      <td>22486.000000</td>\n",
       "      <td>20855.656284</td>\n",
       "      <td>18071.264631</td>\n",
       "      <td>23553.277649</td>\n",
       "    </tr>\n",
       "    <tr>\n",
       "      <th>2019-01-01 01:00:00</th>\n",
       "      <td>2019-01-01 01:00:00</td>\n",
       "      <td>20256.000000</td>\n",
       "      <td>20855.700793</td>\n",
       "      <td>18404.023906</td>\n",
       "      <td>23325.333048</td>\n",
       "    </tr>\n",
       "    <tr>\n",
       "      <th>...</th>\n",
       "      <td>...</td>\n",
       "      <td>...</td>\n",
       "      <td>...</td>\n",
       "      <td>...</td>\n",
       "      <td>...</td>\n",
       "    </tr>\n",
       "    <tr>\n",
       "      <th>2019-12-26 17:45:00</th>\n",
       "      <td>2019-12-26 17:45:00</td>\n",
       "      <td>20068.666667</td>\n",
       "      <td>21231.761094</td>\n",
       "      <td>18555.016556</td>\n",
       "      <td>23824.671556</td>\n",
       "    </tr>\n",
       "    <tr>\n",
       "      <th>2019-12-26 18:00:00</th>\n",
       "      <td>2019-12-26 18:00:00</td>\n",
       "      <td>20886.000000</td>\n",
       "      <td>21229.842487</td>\n",
       "      <td>18700.563444</td>\n",
       "      <td>23706.681197</td>\n",
       "    </tr>\n",
       "    <tr>\n",
       "      <th>2019-12-26 18:15:00</th>\n",
       "      <td>2019-12-26 18:15:00</td>\n",
       "      <td>21652.000000</td>\n",
       "      <td>21228.305269</td>\n",
       "      <td>18634.439552</td>\n",
       "      <td>23887.954308</td>\n",
       "    </tr>\n",
       "    <tr>\n",
       "      <th>2019-12-26 18:30:00</th>\n",
       "      <td>2019-12-26 18:30:00</td>\n",
       "      <td>21328.666667</td>\n",
       "      <td>21227.020158</td>\n",
       "      <td>18603.112415</td>\n",
       "      <td>24115.041185</td>\n",
       "    </tr>\n",
       "    <tr>\n",
       "      <th>2019-12-26 18:45:00</th>\n",
       "      <td>2019-12-26 18:45:00</td>\n",
       "      <td>20717.333333</td>\n",
       "      <td>21225.858829</td>\n",
       "      <td>18461.167635</td>\n",
       "      <td>23814.055793</td>\n",
       "    </tr>\n",
       "  </tbody>\n",
       "</table>\n",
       "<p>34540 rows × 5 columns</p>\n",
       "</div>"
      ],
      "text/plain": [
       "                                     ds             y          yhat  \\\n",
       "ds                                                                    \n",
       "2019-01-01 00:00:00 2019-01-01 00:00:00  19052.666667  20855.463577   \n",
       "2019-01-01 00:15:00 2019-01-01 00:15:00  21883.333333  20855.542626   \n",
       "2019-01-01 00:30:00 2019-01-01 00:30:00  19024.666667  20855.608422   \n",
       "2019-01-01 00:45:00 2019-01-01 00:45:00  22486.000000  20855.656284   \n",
       "2019-01-01 01:00:00 2019-01-01 01:00:00  20256.000000  20855.700793   \n",
       "...                                 ...           ...           ...   \n",
       "2019-12-26 17:45:00 2019-12-26 17:45:00  20068.666667  21231.761094   \n",
       "2019-12-26 18:00:00 2019-12-26 18:00:00  20886.000000  21229.842487   \n",
       "2019-12-26 18:15:00 2019-12-26 18:15:00  21652.000000  21228.305269   \n",
       "2019-12-26 18:30:00 2019-12-26 18:30:00  21328.666667  21227.020158   \n",
       "2019-12-26 18:45:00 2019-12-26 18:45:00  20717.333333  21225.858829   \n",
       "\n",
       "                       yhat_lower    yhat_upper  \n",
       "ds                                               \n",
       "2019-01-01 00:00:00  18237.011519  23586.322229  \n",
       "2019-01-01 00:15:00  18210.145946  23500.825920  \n",
       "2019-01-01 00:30:00  18176.704454  23560.859181  \n",
       "2019-01-01 00:45:00  18071.264631  23553.277649  \n",
       "2019-01-01 01:00:00  18404.023906  23325.333048  \n",
       "...                           ...           ...  \n",
       "2019-12-26 17:45:00  18555.016556  23824.671556  \n",
       "2019-12-26 18:00:00  18700.563444  23706.681197  \n",
       "2019-12-26 18:15:00  18634.439552  23887.954308  \n",
       "2019-12-26 18:30:00  18603.112415  24115.041185  \n",
       "2019-12-26 18:45:00  18461.167635  23814.055793  \n",
       "\n",
       "[34540 rows x 5 columns]"
      ]
     },
     "execution_count": 74,
     "metadata": {},
     "output_type": "execute_result"
    }
   ],
   "source": [
    "fc_df = forecast[['ds', 'y' ,'yhat', 'yhat_lower', 'yhat_upper']]\n",
    "fc_df.index = fc_df.ds\n",
    "fc_df"
   ]
  },
  {
   "cell_type": "code",
   "execution_count": 75,
   "metadata": {},
   "outputs": [
    {
     "data": {
      "text/html": [
       "<div>\n",
       "<style scoped>\n",
       "    .dataframe tbody tr th:only-of-type {\n",
       "        vertical-align: middle;\n",
       "    }\n",
       "\n",
       "    .dataframe tbody tr th {\n",
       "        vertical-align: top;\n",
       "    }\n",
       "\n",
       "    .dataframe thead th {\n",
       "        text-align: right;\n",
       "    }\n",
       "</style>\n",
       "<table border=\"1\" class=\"dataframe\">\n",
       "  <thead>\n",
       "    <tr style=\"text-align: right;\">\n",
       "      <th></th>\n",
       "      <th>backend_processing_time</th>\n",
       "      <th>timestamp</th>\n",
       "    </tr>\n",
       "    <tr>\n",
       "      <th>timestamp</th>\n",
       "      <th></th>\n",
       "      <th></th>\n",
       "    </tr>\n",
       "  </thead>\n",
       "  <tbody>\n",
       "    <tr>\n",
       "      <th>2019-04-18 06:00:00</th>\n",
       "      <td>95618.571429</td>\n",
       "      <td>2019-04-18 06:00:00</td>\n",
       "    </tr>\n",
       "    <tr>\n",
       "      <th>2019-04-18 06:15:00</th>\n",
       "      <td>NaN</td>\n",
       "      <td>2019-04-18 06:15:00</td>\n",
       "    </tr>\n",
       "    <tr>\n",
       "      <th>2019-04-18 06:30:00</th>\n",
       "      <td>NaN</td>\n",
       "      <td>2019-04-18 06:30:00</td>\n",
       "    </tr>\n",
       "    <tr>\n",
       "      <th>2019-04-18 06:45:00</th>\n",
       "      <td>NaN</td>\n",
       "      <td>2019-04-18 06:45:00</td>\n",
       "    </tr>\n",
       "    <tr>\n",
       "      <th>2019-04-18 07:00:00</th>\n",
       "      <td>92410.312500</td>\n",
       "      <td>2019-04-18 07:00:00</td>\n",
       "    </tr>\n",
       "    <tr>\n",
       "      <th>...</th>\n",
       "      <td>...</td>\n",
       "      <td>...</td>\n",
       "    </tr>\n",
       "    <tr>\n",
       "      <th>2019-11-22 15:00:00</th>\n",
       "      <td>NaN</td>\n",
       "      <td>2019-11-22 15:00:00</td>\n",
       "    </tr>\n",
       "    <tr>\n",
       "      <th>2019-11-22 15:15:00</th>\n",
       "      <td>NaN</td>\n",
       "      <td>2019-11-22 15:15:00</td>\n",
       "    </tr>\n",
       "    <tr>\n",
       "      <th>2019-11-22 15:30:00</th>\n",
       "      <td>NaN</td>\n",
       "      <td>2019-11-22 15:30:00</td>\n",
       "    </tr>\n",
       "    <tr>\n",
       "      <th>2019-11-22 15:45:00</th>\n",
       "      <td>NaN</td>\n",
       "      <td>2019-11-22 15:45:00</td>\n",
       "    </tr>\n",
       "    <tr>\n",
       "      <th>2019-11-22 16:00:00</th>\n",
       "      <td>96367.500000</td>\n",
       "      <td>2019-11-22 16:00:00</td>\n",
       "    </tr>\n",
       "  </tbody>\n",
       "</table>\n",
       "<p>20969 rows × 2 columns</p>\n",
       "</div>"
      ],
      "text/plain": [
       "                     backend_processing_time            timestamp\n",
       "timestamp                                                        \n",
       "2019-04-18 06:00:00             95618.571429  2019-04-18 06:00:00\n",
       "2019-04-18 06:15:00                      NaN  2019-04-18 06:15:00\n",
       "2019-04-18 06:30:00                      NaN  2019-04-18 06:30:00\n",
       "2019-04-18 06:45:00                      NaN  2019-04-18 06:45:00\n",
       "2019-04-18 07:00:00             92410.312500  2019-04-18 07:00:00\n",
       "...                                      ...                  ...\n",
       "2019-11-22 15:00:00                      NaN  2019-11-22 15:00:00\n",
       "2019-11-22 15:15:00                      NaN  2019-11-22 15:15:00\n",
       "2019-11-22 15:30:00                      NaN  2019-11-22 15:30:00\n",
       "2019-11-22 15:45:00                      NaN  2019-11-22 15:45:00\n",
       "2019-11-22 16:00:00             96367.500000  2019-11-22 16:00:00\n",
       "\n",
       "[20969 rows x 2 columns]"
      ]
     },
     "execution_count": 75,
     "metadata": {},
     "output_type": "execute_result"
    }
   ],
   "source": [
    "ano_df = filter_anomaly_log_df_resample \n",
    "ano_df.index = ano_df.timestamp\n",
    "ano_df\n"
   ]
  },
  {
   "cell_type": "code",
   "execution_count": 106,
   "metadata": {},
   "outputs": [
    {
     "data": {
      "text/html": [
       "<div>\n",
       "<style scoped>\n",
       "    .dataframe tbody tr th:only-of-type {\n",
       "        vertical-align: middle;\n",
       "    }\n",
       "\n",
       "    .dataframe tbody tr th {\n",
       "        vertical-align: top;\n",
       "    }\n",
       "\n",
       "    .dataframe thead th {\n",
       "        text-align: right;\n",
       "    }\n",
       "</style>\n",
       "<table border=\"1\" class=\"dataframe\">\n",
       "  <thead>\n",
       "    <tr style=\"text-align: right;\">\n",
       "      <th></th>\n",
       "      <th>ds</th>\n",
       "      <th>y</th>\n",
       "      <th>yhat</th>\n",
       "      <th>yhat_lower</th>\n",
       "      <th>yhat_upper</th>\n",
       "      <th>backend_processing_time</th>\n",
       "      <th>timestamp</th>\n",
       "    </tr>\n",
       "    <tr>\n",
       "      <th>ds</th>\n",
       "      <th></th>\n",
       "      <th></th>\n",
       "      <th></th>\n",
       "      <th></th>\n",
       "      <th></th>\n",
       "      <th></th>\n",
       "      <th></th>\n",
       "    </tr>\n",
       "  </thead>\n",
       "  <tbody>\n",
       "    <tr>\n",
       "      <th>2019-01-01 00:00:00</th>\n",
       "      <td>2019-01-01 00:00:00</td>\n",
       "      <td>19052.666667</td>\n",
       "      <td>20855.463577</td>\n",
       "      <td>18237.011519</td>\n",
       "      <td>23586.322229</td>\n",
       "      <td>NaN</td>\n",
       "      <td>NaN</td>\n",
       "    </tr>\n",
       "    <tr>\n",
       "      <th>2019-01-01 00:15:00</th>\n",
       "      <td>2019-01-01 00:15:00</td>\n",
       "      <td>21883.333333</td>\n",
       "      <td>20855.542626</td>\n",
       "      <td>18210.145946</td>\n",
       "      <td>23500.825920</td>\n",
       "      <td>NaN</td>\n",
       "      <td>NaN</td>\n",
       "    </tr>\n",
       "    <tr>\n",
       "      <th>2019-01-01 00:30:00</th>\n",
       "      <td>2019-01-01 00:30:00</td>\n",
       "      <td>19024.666667</td>\n",
       "      <td>20855.608422</td>\n",
       "      <td>18176.704454</td>\n",
       "      <td>23560.859181</td>\n",
       "      <td>NaN</td>\n",
       "      <td>NaN</td>\n",
       "    </tr>\n",
       "    <tr>\n",
       "      <th>2019-01-01 00:45:00</th>\n",
       "      <td>2019-01-01 00:45:00</td>\n",
       "      <td>22486.000000</td>\n",
       "      <td>20855.656284</td>\n",
       "      <td>18071.264631</td>\n",
       "      <td>23553.277649</td>\n",
       "      <td>NaN</td>\n",
       "      <td>NaN</td>\n",
       "    </tr>\n",
       "    <tr>\n",
       "      <th>2019-01-01 01:00:00</th>\n",
       "      <td>2019-01-01 01:00:00</td>\n",
       "      <td>20256.000000</td>\n",
       "      <td>20855.700793</td>\n",
       "      <td>18404.023906</td>\n",
       "      <td>23325.333048</td>\n",
       "      <td>NaN</td>\n",
       "      <td>NaN</td>\n",
       "    </tr>\n",
       "    <tr>\n",
       "      <th>...</th>\n",
       "      <td>...</td>\n",
       "      <td>...</td>\n",
       "      <td>...</td>\n",
       "      <td>...</td>\n",
       "      <td>...</td>\n",
       "      <td>...</td>\n",
       "      <td>...</td>\n",
       "    </tr>\n",
       "    <tr>\n",
       "      <th>2019-12-26 17:45:00</th>\n",
       "      <td>2019-12-26 17:45:00</td>\n",
       "      <td>20068.666667</td>\n",
       "      <td>21231.761094</td>\n",
       "      <td>18555.016556</td>\n",
       "      <td>23824.671556</td>\n",
       "      <td>NaN</td>\n",
       "      <td>NaN</td>\n",
       "    </tr>\n",
       "    <tr>\n",
       "      <th>2019-12-26 18:00:00</th>\n",
       "      <td>2019-12-26 18:00:00</td>\n",
       "      <td>20886.000000</td>\n",
       "      <td>21229.842487</td>\n",
       "      <td>18700.563444</td>\n",
       "      <td>23706.681197</td>\n",
       "      <td>NaN</td>\n",
       "      <td>NaN</td>\n",
       "    </tr>\n",
       "    <tr>\n",
       "      <th>2019-12-26 18:15:00</th>\n",
       "      <td>2019-12-26 18:15:00</td>\n",
       "      <td>21652.000000</td>\n",
       "      <td>21228.305269</td>\n",
       "      <td>18634.439552</td>\n",
       "      <td>23887.954308</td>\n",
       "      <td>NaN</td>\n",
       "      <td>NaN</td>\n",
       "    </tr>\n",
       "    <tr>\n",
       "      <th>2019-12-26 18:30:00</th>\n",
       "      <td>2019-12-26 18:30:00</td>\n",
       "      <td>21328.666667</td>\n",
       "      <td>21227.020158</td>\n",
       "      <td>18603.112415</td>\n",
       "      <td>24115.041185</td>\n",
       "      <td>NaN</td>\n",
       "      <td>NaN</td>\n",
       "    </tr>\n",
       "    <tr>\n",
       "      <th>2019-12-26 18:45:00</th>\n",
       "      <td>2019-12-26 18:45:00</td>\n",
       "      <td>20717.333333</td>\n",
       "      <td>21225.858829</td>\n",
       "      <td>18461.167635</td>\n",
       "      <td>23814.055793</td>\n",
       "      <td>NaN</td>\n",
       "      <td>NaN</td>\n",
       "    </tr>\n",
       "  </tbody>\n",
       "</table>\n",
       "<p>34540 rows × 7 columns</p>\n",
       "</div>"
      ],
      "text/plain": [
       "                                     ds             y          yhat  \\\n",
       "ds                                                                    \n",
       "2019-01-01 00:00:00 2019-01-01 00:00:00  19052.666667  20855.463577   \n",
       "2019-01-01 00:15:00 2019-01-01 00:15:00  21883.333333  20855.542626   \n",
       "2019-01-01 00:30:00 2019-01-01 00:30:00  19024.666667  20855.608422   \n",
       "2019-01-01 00:45:00 2019-01-01 00:45:00  22486.000000  20855.656284   \n",
       "2019-01-01 01:00:00 2019-01-01 01:00:00  20256.000000  20855.700793   \n",
       "...                                 ...           ...           ...   \n",
       "2019-12-26 17:45:00 2019-12-26 17:45:00  20068.666667  21231.761094   \n",
       "2019-12-26 18:00:00 2019-12-26 18:00:00  20886.000000  21229.842487   \n",
       "2019-12-26 18:15:00 2019-12-26 18:15:00  21652.000000  21228.305269   \n",
       "2019-12-26 18:30:00 2019-12-26 18:30:00  21328.666667  21227.020158   \n",
       "2019-12-26 18:45:00 2019-12-26 18:45:00  20717.333333  21225.858829   \n",
       "\n",
       "                       yhat_lower    yhat_upper  backend_processing_time  \\\n",
       "ds                                                                         \n",
       "2019-01-01 00:00:00  18237.011519  23586.322229                      NaN   \n",
       "2019-01-01 00:15:00  18210.145946  23500.825920                      NaN   \n",
       "2019-01-01 00:30:00  18176.704454  23560.859181                      NaN   \n",
       "2019-01-01 00:45:00  18071.264631  23553.277649                      NaN   \n",
       "2019-01-01 01:00:00  18404.023906  23325.333048                      NaN   \n",
       "...                           ...           ...                      ...   \n",
       "2019-12-26 17:45:00  18555.016556  23824.671556                      NaN   \n",
       "2019-12-26 18:00:00  18700.563444  23706.681197                      NaN   \n",
       "2019-12-26 18:15:00  18634.439552  23887.954308                      NaN   \n",
       "2019-12-26 18:30:00  18603.112415  24115.041185                      NaN   \n",
       "2019-12-26 18:45:00  18461.167635  23814.055793                      NaN   \n",
       "\n",
       "                    timestamp  \n",
       "ds                             \n",
       "2019-01-01 00:00:00       NaN  \n",
       "2019-01-01 00:15:00       NaN  \n",
       "2019-01-01 00:30:00       NaN  \n",
       "2019-01-01 00:45:00       NaN  \n",
       "2019-01-01 01:00:00       NaN  \n",
       "...                       ...  \n",
       "2019-12-26 17:45:00       NaN  \n",
       "2019-12-26 18:00:00       NaN  \n",
       "2019-12-26 18:15:00       NaN  \n",
       "2019-12-26 18:30:00       NaN  \n",
       "2019-12-26 18:45:00       NaN  \n",
       "\n",
       "[34540 rows x 7 columns]"
      ]
     },
     "execution_count": 106,
     "metadata": {},
     "output_type": "execute_result"
    }
   ],
   "source": [
    "test = fc_df.join(ano_df)\n",
    "#test = test[(test['timestamp'] > '2019-04-01') & (test['timestamp'] <= '2019-04-19')]\n",
    "test\n"
   ]
  },
  {
   "cell_type": "code",
   "execution_count": 104,
   "metadata": {},
   "outputs": [
    {
     "data": {
      "image/png": "[encoded data removed]",
      "text/plain": [
       "<Figure size 1152x648 with 1 Axes>"
      ]
     },
     "metadata": {
      "needs_background": "light"
     },
     "output_type": "display_data"
    }
   ],
   "source": [
    "pd.plotting.register_matplotlib_converters()  # needed to plot timestamps\n",
    "#test.plot(x='ds', y=['y'])\n",
    "#test.plot(x='ds', y=['y', 'yhat', 'yhat_upper', 'yhat_lower'])\n",
    "plt.figure(figsize=(16,9))\n",
    "plt.plot(test['ds'],test['y'])\n",
    "plt.plot(test['ds'], test['backend_processing_time'], '.', color='red')\n",
    "plt.plot(test['ds'],test['yhat'])\n",
    "plt.plot(test['ds'],test['yhat_upper'], color='green')\n",
    "plt.plot(test['ds'],test['yhat_lower'], color='purple')\n",
    "\n",
    "plt.title('Predicted backend_processing_time over year')\n",
    "plt.xlabel('Time')\n",
    "plt.ylabel('T')\n",
    "plt.show()"
   ]
  },
  {
   "cell_type": "markdown",
   "metadata": {},
   "source": [
    "Outlier scores and predictions:"
   ]
  },
  {
   "cell_type": "code",
   "execution_count": null,
   "metadata": {},
   "outputs": [],
   "source": [
    "od_preds['data']['forecast']['threshold'] = np.zeros(35040)\n",
    "od_preds['data']['forecast'][-35040:].plot(x='ds', y=['score', 'threshold'])\n",
    "plt.title('Outlier score over time')\n",
    "plt.xlabel('Time')\n",
    "plt.ylabel('Outlier score')\n",
    "plt.show()"
   ]
  },
  {
   "cell_type": "markdown",
   "metadata": {},
   "source": [
    "The outlier scores naturally trend down as uncertainty increases when we predict further in the future.\n",
    "\n",
    "Let's look at some individual outliers:"
   ]
  },
  {
   "cell_type": "code",
   "execution_count": null,
   "metadata": {},
   "outputs": [],
   "source": [
    "df_fcst = od_preds['data']['forecast']\n",
    "df_outlier = df_fcst"
   ]
  },
  {
   "cell_type": "code",
   "execution_count": null,
   "metadata": {},
   "outputs": [],
   "source": [
    "print('Number of outliers: {}'.format(df_outlier.shape[0]))\n",
    "df_outlier = df_outlier[['ds', 'yhat', 'yhat_lower', 'yhat_upper']]"
   ]
  },
  {
   "cell_type": "code",
   "execution_count": null,
   "metadata": {},
   "outputs": [],
   "source": [
    "pred_data = df_outlier.head(34540)"
   ]
  },
  {
   "cell_type": "code",
   "execution_count": null,
   "metadata": {},
   "outputs": [],
   "source": [
    "fc_data = forecast['y']"
   ]
  },
  {
   "cell_type": "code",
   "execution_count": null,
   "metadata": {},
   "outputs": [],
   "source": [
    "pred_data = pd.concat([pred_data, fc_data], axis=1)"
   ]
  },
  {
   "cell_type": "code",
   "execution_count": null,
   "metadata": {},
   "outputs": [],
   "source": [
    "pred_data"
   ]
  },
  {
   "cell_type": "code",
   "execution_count": null,
   "metadata": {},
   "outputs": [],
   "source": [
    "pred_data.to_csv('Predict_2019_0.3_3', header=None)"
   ]
  },
  {
   "cell_type": "code",
   "execution_count": null,
   "metadata": {},
   "outputs": [],
   "source": [
    "results = pd.read_csv('results_2019.csv', sep=',', header=None, encoding='utf-8', index_col= None, names=['datetime', 'yhat', 'yhat_lower', 'yhat_upper', 'y'])"
   ]
  },
  {
   "cell_type": "code",
   "execution_count": null,
   "metadata": {},
   "outputs": [],
   "source": [
    "results"
   ]
  },
  {
   "cell_type": "code",
   "execution_count": null,
   "metadata": {},
   "outputs": [],
   "source": [
    "year_df = results\n",
    "year_anomaly = filter_anomaly_log_df\n",
    "\n",
    "plt.plot(year_anomaly['timestamp'], year_anomaly['backend_processing_time'], 'o', color='red')\n",
    "plt.plot(year_df['datetime'], year_df['yhat_upper'])\n",
    "\n",
    "plt.title('Predicted yhat_upper over time')\n",
    "plt.xlabel('Time')\n",
    "plt.ylabel('backend Proccesing time')\n",
    "plt.show()"
   ]
  },
  {
   "cell_type": "code",
   "execution_count": null,
   "metadata": {},
   "outputs": [],
   "source": [
    "rangeDate = (results['datetime'] > '2019-01-01 00:00:00') & (results['datetime'] <= '2019-01-31 00:00:00')\n",
    "rangeDate_anomaly = (filter_anomaly_log_df['timestamp'] > '2019-01-01 00:00:00') & (filter_anomaly_log_df['timestamp'] <= '2019-01-31 00:00:00')\n",
    "\n",
    "jan_df = results.loc[rangeDate]\n",
    "jan_anomaly = filter_anomaly_log_df.loc[rangeDate_anomaly]\n",
    "\n",
    "plt.plot(filter_anomaly_log_df['timestamp'], filter_anomaly_log_df['backend_processing_time'], 'o', color='black')\n",
    "plt.plot(jan_df['datetime'], jan_df['yhat_upper'])\n",
    "\n",
    "plt.title('Predicted yhat_upper over time')\n",
    "plt.xlabel('Time')\n",
    "plt.ylabel('backend Proccesing time')\n",
    "plt.show()"
   ]
  },
  {
   "cell_type": "code",
   "execution_count": null,
   "metadata": {},
   "outputs": [],
   "source": [
    "rangeDate = (forecast['ds'] > '2019-02-01 00:00:00') & (forecast['ds'] <= '2019-02-28 00:00:00')\n",
    "feb_df = forecast.loc[rangeDate]\n",
    "feb_df.plot(x='ds', y=['y','yhat_upper'])\n",
    "plt.title('Predicted yhat_upper over time')\n",
    "plt.xlabel('Time')\n",
    "plt.ylabel('backend Proccesing time')\n",
    "plt.show()"
   ]
  },
  {
   "cell_type": "code",
   "execution_count": null,
   "metadata": {},
   "outputs": [],
   "source": [
    "rangeDate = (forecast['ds'] > '2019-03-01 00:00:00') & (forecast['ds'] <= '2019-03-03 00:00:00')\n",
    "march_df = forecast.loc[rangeDate]\n",
    "march_df.plot(x='ds', y=['y','yhat_upper'])\n",
    "plt.title('Predicted yhat_upper over time')\n",
    "plt.xlabel('Time')\n",
    "plt.ylabel('backend Proccesing time')\n",
    "plt.show()"
   ]
  },
  {
   "cell_type": "code",
   "execution_count": null,
   "metadata": {},
   "outputs": [],
   "source": [
    "rangeDate = (forecast['ds'] > '2019-04-01 00:00:00') & (forecast['ds'] <= '2019-04-30 00:00:00')\n",
    "apr_df = forecast.loc[rangeDate]\n",
    "apr_df.plot(x='ds', y=['y','yhat_upper'])\n",
    "plt.title('Predicted yhat_upper over time')\n",
    "plt.xlabel('Time')\n",
    "plt.ylabel('backend Proccesing time')\n",
    "plt.show()"
   ]
  },
  {
   "cell_type": "code",
   "execution_count": null,
   "metadata": {},
   "outputs": [],
   "source": [
    "rangeDate = (results['datetime'] > '2019-05-01 00:00:00') & (results['datetime'] <= '2019-05-31 00:00:00')\n",
    "may_df = results.loc[rangeDate]\n",
    "may_df.plot(x='datetime', y=['y','yhat_upper'])\n",
    "plt.title('Predicted yhat_upper over time')\n",
    "plt.xlabel('Time')\n",
    "plt.ylabel('backend Proccesing time')\n",
    "plt.show()"
   ]
  },
  {
   "cell_type": "code",
   "execution_count": null,
   "metadata": {},
   "outputs": [],
   "source": [
    "rangeDate = (forecast['ds'] > '2019-06-01 00:00:00') & (forecast['ds'] <= '2019-06-30 00:00:00')\n",
    "jun_df = forecast.loc[rangeDate]\n",
    "jun_df.plot(x='ds', y=['y','yhat_upper'])\n",
    "plt.title('Predicted yhat_upper over time')\n",
    "plt.xlabel('Time')\n",
    "plt.ylabel('backend Proccesing time')\n",
    "plt.show()"
   ]
  },
  {
   "cell_type": "code",
   "execution_count": null,
   "metadata": {},
   "outputs": [],
   "source": [
    "rangeDate = (results['datetime'] > '2019-07-01 00:00:00') & (results['datetime'] <= '2019-07-31 00:00:00')\n",
    "jul_df = results.loc[rangeDate]\n",
    "jul_df.plot(x='datetime', y=['y','yhat_upper'])\n",
    "plt.title('Predicted yhat_upper over time')\n",
    "plt.xlabel('Time')\n",
    "plt.ylabel('backend Proccesing time')\n",
    "plt.show()"
   ]
  },
  {
   "cell_type": "code",
   "execution_count": null,
   "metadata": {},
   "outputs": [],
   "source": [
    "rangeDate = (forecast['ds'] > '2019-08-01 00:00:00') & (forecast['ds'] <= '2019-08-30 00:00:00')\n",
    "aug_df = forecast.loc[rangeDate]\n",
    "aug_df.plot(x='ds', y=['y','yhat_upper'])\n",
    "plt.title('Predicted yhat_upper over time')\n",
    "plt.xlabel('Time')\n",
    "plt.ylabel('backend Proccesing time')\n",
    "plt.show()"
   ]
  },
  {
   "cell_type": "code",
   "execution_count": null,
   "metadata": {},
   "outputs": [],
   "source": [
    "rangeDate = (forecast['ds'] > '2019-09-01 00:00:00') & (forecast['ds'] <= '2019-09-30 00:00:00')\n",
    "sep_df = forecast.loc[rangeDate]\n",
    "sep_df.plot(x='ds', y=['y','yhat_upper'])\n",
    "plt.title('Predicted yhat_upper over time')\n",
    "plt.xlabel('Time')\n",
    "plt.ylabel('backend Proccesing time')\n",
    "plt.show()"
   ]
  },
  {
   "cell_type": "code",
   "execution_count": null,
   "metadata": {},
   "outputs": [],
   "source": [
    "rangeDate = (forecast['ds'] > '2019-10-01 00:00:00') & (forecast['ds'] <= '2019-10-31 00:00:00')\n",
    "oct_df = forecast.loc[rangeDate]\n",
    "oct_df.plot(x='ds', y=['y','yhat_upper'])\n",
    "plt.title('Predicted yhat_upper over time')\n",
    "plt.xlabel('Time')\n",
    "plt.ylabel('backend Proccesing time')\n",
    "plt.show()"
   ]
  },
  {
   "cell_type": "code",
   "execution_count": null,
   "metadata": {},
   "outputs": [],
   "source": [
    "rangeDate = (forecast['ds'] > '2019-11-01 00:00:00') & (forecast['ds'] <= '2019-11-30 00:00:00')\n",
    "nov_df = forecast.loc[rangeDate]\n",
    "nov_df.plot(x='ds', y=['y','yhat_upper'])\n",
    "plt.title('Predicted yhat_upper over time')\n",
    "plt.xlabel('Time')\n",
    "plt.ylabel('backend Proccesing time')\n",
    "plt.show()"
   ]
  },
  {
   "cell_type": "code",
   "execution_count": null,
   "metadata": {},
   "outputs": [],
   "source": [
    "rangeDate = (forecast['ds'] > '2019-12-01 00:00:00') & (forecast['ds'] <= '2019-12-31 00:00:00')\n",
    "dec_df = forecast.loc[rangeDate]\n",
    "dec_df.plot(x='ds', y=['y','yhat_upper'])\n",
    "plt.title('Predicted yhat_upper over time')\n",
    "plt.xlabel('Time')\n",
    "plt.ylabel('backend Proccesing time')\n",
    "plt.show()"
   ]
  },
  {
   "cell_type": "code",
   "execution_count": null,
   "metadata": {},
   "outputs": [],
   "source": []
  }
 ],
 "metadata": {
  "kernelspec": {
   "display_name": "Python 3",
   "language": "python",
   "name": "python3"
  },
  "language_info": {
   "codemirror_mode": {
    "name": "ipython",
    "version": 3
   },
   "file_extension": ".py",
   "mimetype": "text/x-python",
   "name": "python",
   "nbconvert_exporter": "python",
   "pygments_lexer": "ipython3",
   "version": "3.6.8"
  }
 },
 "nbformat": 4,
 "nbformat_minor": 2
}
